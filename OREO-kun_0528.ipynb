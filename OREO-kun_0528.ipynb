{
 "cells": [
  {
   "cell_type": "code",
   "execution_count": null,
   "metadata": {},
   "outputs": [],
   "source": [
    "# 異常震度にログインしよう\n",
    "\n",
    "import requests\n",
    "from bs4 import BeautifulSoup\n",
    "from urllib.parse import urljoin\n",
    "\n",
    "# パスワードの指定\n",
    "PASS = \"password\" # 実行するときは、passwordを正しいパスワードに置き換える\n",
    "\n",
    "# セッションを開始\n",
    "session = requests.session()\n",
    "\n",
    "# ログイン\n",
    "login_info = {\n",
    "    \"bbspass_str_submit_data\":PASS,\n",
    "}\n",
    "\n",
    "# action\n",
    "url_login = \"https://9205.teacup.com/nobody/bbs/?\"\n",
    "res = session.post(url_login, data=login_info)\n",
    "res.raise_for_status() # エラーならここで例外を発生させる"
   ]
  },
  {
   "cell_type": "code",
   "execution_count": null,
   "metadata": {},
   "outputs": [],
   "source": [
    "# 投稿者がOREOのテキストデータだけをスクレイピングしよう\n",
    "\n",
    "# ゲーム業界研究所のページを指定\n",
    "url_gamelab = \"https://9205.teacup.com/nobody/bbs/t27/-100\"\n",
    "res = session.get(url_gamelab)\n",
    "res.raise_for_status()\n",
    "\n",
    "# HTMLから、BeautifulSoupオブジェクトを作成\n",
    "soup = BeautifulSoup(res.content, 'html.parser')\n",
    "\n",
    "# find_all()メソッドで記事を1つずつ取得し、投稿者を調べる\n",
    "for kiji in soup.find_all(class_='kiji'):\n",
    "    name = kiji.find('span', class_=\"name\")\n",
    "    author = name.text\n",
    "    # 投稿者がOREOならば、テキストを取得\n",
    "    if author == \"OREO\":\n",
    "        contents = kiji.find('dd', class_=\"text\").text \n",
    "        print(contents)"
   ]
  }
 ],
 "metadata": {
  "kernelspec": {
   "display_name": "Python 3",
   "language": "python",
   "name": "python3"
  },
  "language_info": {
   "codemirror_mode": {
    "name": "ipython",
    "version": 3
   },
   "file_extension": ".py",
   "mimetype": "text/x-python",
   "name": "python",
   "nbconvert_exporter": "python",
   "pygments_lexer": "ipython3",
   "version": "3.8.5"
  }
 },
 "nbformat": 4,
 "nbformat_minor": 4
}
